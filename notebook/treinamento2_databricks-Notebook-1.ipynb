{
 "cells": [
  {
   "cell_type": "markdown",
   "metadata": {
    "application/vnd.databricks.v1+cell": {
     "cellMetadata": {},
     "inputWidgets": {},
     "nuid": "004c01d2-b326-402c-81e0-ced97aba66d0",
     "showTitle": false,
     "tableResultSettingsMap": {},
     "title": ""
    }
   },
   "source": [
    "para achar o arquivo"
   ]
  },
  {
   "cell_type": "code",
   "execution_count": 0,
   "metadata": {
    "application/vnd.databricks.v1+cell": {
     "cellMetadata": {
      "byteLimit": 2048000,
      "rowLimit": 10000
     },
     "inputWidgets": {},
     "nuid": "75f828a2-457c-4268-9d33-436ce1506490",
     "showTitle": false,
     "tableResultSettingsMap": {},
     "title": ""
    }
   },
   "outputs": [],
   "source": [
    "display(dbutils.fs.ls(\"file:/Workspace/Users/user-sydtxkvofsqr@oreilly-cloudlabs.com/treinamento_formula1/landing/constructors.json\"))"
   ]
  },
  {
   "cell_type": "markdown",
   "metadata": {
    "application/vnd.databricks.v1+cell": {
     "cellMetadata": {},
     "inputWidgets": {},
     "nuid": "25462b77-c352-4559-b9c6-703896e5b015",
     "showTitle": false,
     "tableResultSettingsMap": {},
     "title": ""
    }
   },
   "source": [
    "codico para alterar a coluna"
   ]
  },
  {
   "cell_type": "code",
   "execution_count": 0,
   "metadata": {
    "application/vnd.databricks.v1+cell": {
     "cellMetadata": {
      "byteLimit": 2048000,
      "rowLimit": 10000
     },
     "inputWidgets": {},
     "nuid": "be030bd4-ca55-4912-91dc-98e6097eddc4",
     "showTitle": false,
     "tableResultSettingsMap": {},
     "title": ""
    }
   },
   "outputs": [],
   "source": [
    "%python\n",
    "from pyspark.sql.types import IntegerType, StringType\n",
    "\n",
    "# Carregar os dados\n",
    "df_cons = spark.read.format(\"json\").load(\"file:/Workspace/Users/user-sydtxkvofsqr@oreilly-cloudlabs.com/treinamento_formula1/landing/constructors.json\")\n",
    "display(df_cons)\n",
    "\n",
    "# Converter os tipos de dados das colunas\n",
    "df_cons = df_cons.withColumn(\"constructorId\", df_cons[\"constructorId\"].cast(IntegerType()))\n",
    "df_cons = df_cons.withColumn(\"name\", df_cons[\"name\"].cast(StringType()))\n",
    "df_cons = df_cons.withColumn(\"nationality\", df_cons[\"nationality\"].cast(StringType()))\n",
    "df_cons = df_cons.withColumn(\"url\", df_cons[\"url\"].cast(StringType()))\n",
    "\n",
    "display(df_cons)"
   ]
  },
  {
   "cell_type": "markdown",
   "metadata": {
    "application/vnd.databricks.v1+cell": {
     "cellMetadata": {},
     "inputWidgets": {},
     "nuid": "29d7f7d8-95a4-48ee-86eb-f575e22e1fae",
     "showTitle": false,
     "tableResultSettingsMap": {},
     "title": ""
    }
   },
   "source": [
    "codico para salvar em delta"
   ]
  },
  {
   "cell_type": "code",
   "execution_count": 0,
   "metadata": {
    "application/vnd.databricks.v1+cell": {
     "cellMetadata": {
      "byteLimit": 2048000,
      "rowLimit": 10000
     },
     "inputWidgets": {},
     "nuid": "10737cd1-0277-4409-b650-8c008e8d8692",
     "showTitle": false,
     "tableResultSettingsMap": {},
     "title": ""
    }
   },
   "outputs": [],
   "source": [
    "df_cons.write.format(\"delta\").mode(\"overwrite\").save(\"/mnt/formula1/bronze/constructor\")"
   ]
  }
 ],
 "metadata": {
  "application/vnd.databricks.v1+notebook": {
   "computePreferences": null,
   "dashboards": [],
   "environmentMetadata": {
    "base_environment": "",
    "client": "1"
   },
   "language": "python",
   "notebookMetadata": {
    "pythonIndentUnit": 4
   },
   "notebookName": "treinamento2_databricks-Notebook-1",
   "widgets": {}
  },
  "language_info": {
   "name": "python"
  }
 },
 "nbformat": 4,
 "nbformat_minor": 0
}
