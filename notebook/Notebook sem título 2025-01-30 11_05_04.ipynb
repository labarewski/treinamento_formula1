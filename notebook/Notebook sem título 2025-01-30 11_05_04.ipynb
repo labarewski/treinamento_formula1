{
 "cells": [
  {
   "cell_type": "code",
   "execution_count": 0,
   "metadata": {
    "application/vnd.databricks.v1+cell": {
     "cellMetadata": {
      "byteLimit": 2048000,
      "rowLimit": 10000
     },
     "inputWidgets": {},
     "nuid": "75f828a2-457c-4268-9d33-436ce1506490",
     "showTitle": false,
     "tableResultSettingsMap": {},
     "title": ""
    }
   },
   "outputs": [],
   "source": [
    "display(dbutils.fs.ls(\"file:/Workspace/Users/user-hfpbypajgvfe@oreilly-cloudlabs.com/treinamento_formula1/landing/constructors.json\"))"
   ]
  },
  {
   "cell_type": "code",
   "execution_count": 0,
   "metadata": {
    "application/vnd.databricks.v1+cell": {
     "cellMetadata": {
      "byteLimit": 2048000,
      "rowLimit": 10000
     },
     "inputWidgets": {},
     "nuid": "be030bd4-ca55-4912-91dc-98e6097eddc4",
     "showTitle": false,
     "tableResultSettingsMap": {},
     "title": ""
    }
   },
   "outputs": [],
   "source": [
    "\n",
    "from pyspark.sql.types import IntegerType, StringType\n",
    "\n",
    "# Carregar os dados\n",
    "df_race_raw = spark.read.format(\"json\").load(\"file:/Workspace/Users/user-hfpbypajgvfe@oreilly-cloudlabs.com/treinamento_formula1/landing/constructors.json\")\n",
    "display(df_race_raw)\n",
    "\n",
    "# Converter os tipos de dados das colunas\n",
    "df_race_raw = df_race_raw.withColumn(\"constructorId\", df_race_raw[\"constructorId\"].cast(IntegerType()))\n",
    "df_race_raw = df_race_raw.withColumn(\"name\", df_race_raw[\"name\"].cast(StringType()))\n",
    "df_race_raw = df_race_raw.withColumn(\"nationality\", df_race_raw[\"nationality\"].cast(StringType()))\n",
    "df_race_raw = df_race_raw.withColumn(\"url\", df_race_raw[\"url\"].cast(StringType()))\n",
    "\n",
    "display(df_race_raw)\n"
   ]
  }
 ],
 "metadata": {
  "application/vnd.databricks.v1+notebook": {
   "computePreferences": null,
   "dashboards": [],
   "environmentMetadata": {
    "base_environment": "",
    "client": "1"
   },
   "language": "python",
   "notebookMetadata": {
    "pythonIndentUnit": 4
   },
   "notebookName": "Notebook sem título 2025-01-30 11_05_04",
   "widgets": {}
  },
  "language_info": {
   "name": "python"
  }
 },
 "nbformat": 4,
 "nbformat_minor": 0
}
