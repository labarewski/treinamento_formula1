{
 "cells": [
  {
   "cell_type": "code",
   "execution_count": 0,
   "metadata": {
    "application/vnd.databricks.v1+cell": {
     "cellMetadata": {
      "byteLimit": 2048000,
      "rowLimit": 10000
     },
     "inputWidgets": {},
     "nuid": "bc2cd912-af58-40b4-9f6c-42319c6aa0e5",
     "showTitle": false,
     "tableResultSettingsMap": {},
     "title": ""
    }
   },
   "outputs": [],
   "source": [
    "user = str(dbutils.fs.ls(\"file:/Workspace/Users/\")).split('/')[3]\n",
    "filespath = \"file:/Workspace/Users/\" + f\"{user}/treinamento_formula1/landing\"\n",
    "savepath = \"dbfs:/Workspace/Users/\" + f\"{user}\" + \"/treinamento_formula1/mnt/formula1/bronze/circuit\"\n",
    "\n",
    "circuitocsv = spark.read.csv(filespath+\"/circuito.csv\", header=True)\n",
    "\n",
    "print('Objetivo: Corrigir os tipos de dados das colunas, inferschema desabilitado para o propósito da ATV')\n",
    "\n",
    "circuitocsv = circuitocsv.withColumn(\"circuitId\", circuitocsv[\"circuitId\"].cast(\"integer\"))\n",
    "circuitocsv = circuitocsv.withColumn(\"circuitref\", circuitocsv[\"circuitref\"].cast(\"string\"))\n",
    "circuitocsv = circuitocsv.withColumn(\"name\", circuitocsv[\"name\"].cast(\"string\"))\n",
    "circuitocsv = circuitocsv.withColumn(\"location\", circuitocsv[\"location\"].cast(\"string\"))\n",
    "circuitocsv = circuitocsv.withColumn(\"country\", circuitocsv[\"country\"].cast(\"string\"))\n",
    "circuitocsv = circuitocsv.withColumn(\"lat\", circuitocsv[\"lat\"].cast(\"double\"))\n",
    "circuitocsv = circuitocsv.withColumn(\"lng\", circuitocsv[\"lng\"].cast(\"double\"))\n",
    "circuitocsv = circuitocsv.withColumn(\"alt\", circuitocsv[\"alt\"].cast(\"integer\"))\n",
    "circuitocsv = circuitocsv.withColumn(\"url\", circuitocsv[\"url\"].cast(\"string\"))\n",
    "\n",
    "circuitocsv.write.mode(\"overwrite\").save(savepath+\"/circuitoRaw.csv\")\n",
    "display(dbutils.fs.ls(savepath))"
   ]
  }
 ],
 "metadata": {
  "application/vnd.databricks.v1+notebook": {
   "computePreferences": null,
   "dashboards": [],
   "environmentMetadata": {
    "base_environment": "",
    "client": "1"
   },
   "language": "python",
   "notebookMetadata": {
    "pythonIndentUnit": 4
   },
   "notebookName": "readcsv-circuits",
   "widgets": {}
  },
  "language_info": {
   "name": "python"
  }
 },
 "nbformat": 4,
 "nbformat_minor": 0
}
