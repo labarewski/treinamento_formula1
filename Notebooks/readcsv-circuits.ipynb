{
 "cells": [
  {
   "cell_type": "markdown",
   "metadata": {
    "application/vnd.databricks.v1+cell": {
     "cellMetadata": {},
     "inputWidgets": {},
     "nuid": "ef9d8fa7-f3e4-48eb-a3a7-ec267f33776f",
     "showTitle": false,
     "tableResultSettingsMap": {},
     "title": ""
    }
   },
   "source": [
    "> Objetivo: Corrigir os tipos de dados das colunas, inferschema desabilitado para o propósito da ATV"
   ]
  },
  {
   "cell_type": "code",
   "execution_count": 0,
   "metadata": {
    "application/vnd.databricks.v1+cell": {
     "cellMetadata": {
      "byteLimit": 2048000,
      "rowLimit": 10000
     },
     "inputWidgets": {},
     "nuid": "6697c836-2531-42e0-9bcb-1d9af9c56498",
     "showTitle": false,
     "tableResultSettingsMap": {},
     "title": ""
    }
   },
   "outputs": [],
   "source": [
    "user = str(dbutils.fs.ls(\"file:/Workspace/Users/\")).split('/')[3]\n",
    "filespath = \"file:/Workspace/Users/\" + f\"{user}/treinamento_formula1/landing\"\n",
    "savepath = \"dbfs:/mnt/formula1/bronze/circuit\"\n",
    "\n",
    "circuitocsv = spark.read.csv(filespath+\"/circuito.csv\", header=True)\n",
    "dfDict = dict(circuitocsv.dtypes)\n",
    "\n",
    "def cast_columntypes(df: circuitocsv):\n",
    "    for col, dtype in dfDict.items():\n",
    "        circuitocsv = alterar_tipo(df, col, dtype)\n",
    "\n",
    "def alterar_tipo(df: circuitocsv, coluna, tipo):\n",
    "    return df.withColumn(coluna, df[coluna].cast(tipo))\n",
    "\n"
   ]
  },
  {
   "cell_type": "code",
   "execution_count": 0,
   "metadata": {
    "application/vnd.databricks.v1+cell": {
     "cellMetadata": {
      "byteLimit": 2048000,
      "rowLimit": 10000
     },
     "inputWidgets": {},
     "nuid": "bc2cd912-af58-40b4-9f6c-42319c6aa0e5",
     "showTitle": false,
     "tableResultSettingsMap": {},
     "title": ""
    }
   },
   "outputs": [],
   "source": [
    "\n",
    "\n",
    "print(user)\n",
    "print('\\nAlterando colunas....')\n",
    "\n",
    "cast_columntypes(circuitocsv)\n",
    "circuitocsv.printSchema()\n",
    "\n",
    "\n",
    "print('Criando pasta no dbfs...')\n",
    "dbutils.fs.mkdirs(savepath)\n",
    "print('Escrevendo arquivo...')\n",
    "circuitocsv.write.format('delta').mode('overwrite').save(f'{savepath}/circuitoRaw.delta')"
   ]
  }
 ],
 "metadata": {
  "application/vnd.databricks.v1+notebook": {
   "computePreferences": null,
   "dashboards": [],
   "environmentMetadata": {
    "base_environment": "",
    "client": "1"
   },
   "language": "python",
   "notebookMetadata": {
    "pythonIndentUnit": 4
   },
   "notebookName": "readcsv-circuits",
   "widgets": {}
  },
  "language_info": {
   "name": "python"
  }
 },
 "nbformat": 4,
 "nbformat_minor": 0
}
