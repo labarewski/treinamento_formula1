{
 "cells": [
  {
   "cell_type": "code",
   "execution_count": 0,
   "metadata": {
    "application/vnd.databricks.v1+cell": {
     "cellMetadata": {
      "byteLimit": 2048000,
      "rowLimit": 10000
     },
     "inputWidgets": {},
     "nuid": "bc2cd912-af58-40b4-9f6c-42319c6aa0e5",
     "showTitle": false,
     "tableResultSettingsMap": {},
     "title": ""
    }
   },
   "outputs": [],
   "source": [
    "user = str(dbutils.fs.ls(\"file:/Workspace/Users/\")).split('/')[3]\n",
    "filespath = \"file:/Workspace/Users/\" + f\"{user}/treinamento_formula1/landing\"\n",
    "savepath = \"dbfs:/mnt/formula1/bronze/circuit\"\n",
    "\n",
    "circuitocsv = spark.read.csv(filespath+\"/circuito.csv\", header=True)\n",
    "\n",
    "print('Objetivo: Corrigir os tipos de dados das colunas, inferschema desabilitado para o propósito da ATV')\n",
    "print('\\nAlterando colunas....')\n",
    "circuitocsv = circuitocsv.withColumn(\"circuitId\", circuitocsv[\"circuitId\"].cast(\"integer\")) \\\n",
    "                         .withColumn(\"circuitref\", circuitocsv[\"circuitref\"].cast(\"string\")) \\\n",
    "                         .withColumn(\"name\", circuitocsv[\"name\"].cast(\"string\")) \\\n",
    "                         .withColumn(\"location\", circuitocsv[\"location\"].cast(\"string\")) \\\n",
    "                         .withColumn(\"country\", circuitocsv[\"country\"].cast(\"string\")) \\\n",
    "                         .withColumn(\"lat\", circuitocsv[\"lat\"].cast(\"double\")) \\\n",
    "                         .withColumn(\"lng\", circuitocsv[\"lng\"].cast(\"double\")) \\\n",
    "                         .withColumn(\"alt\", circuitocsv[\"alt\"].cast(\"integer\")) \\\n",
    "                         .withColumn(\"url\", circuitocsv[\"url\"].cast(\"string\")) \n",
    "circuitocsv.printSchema()\n",
    "\n",
    "print('Criando pasta no dbfs...')\n",
    "dbutils.fs.mkdirs(savepath)\n",
    "\n",
    "if(str(dbutils.fs.ls(savepath)).find('circuitoRaw.csv') == -1):\n",
    "    print('Criando tabela...')\n",
    "    circuitocsv.write.format('csv').save(f'{savepath}/circuitoRaw.csv', header=True)\n",
    "else:\n",
    "    print('Arquivo já existe, sobrescrevendo...')\n",
    "    circuitocsv.write.format('csv').mode('overwrite').save(f'{savepath}/circuitoRaw.csv', header=True)"
   ]
  }
 ],
 "metadata": {
  "application/vnd.databricks.v1+notebook": {
   "computePreferences": null,
   "dashboards": [],
   "environmentMetadata": {
    "base_environment": "",
    "client": "1"
   },
   "language": "python",
   "notebookMetadata": {
    "pythonIndentUnit": 4
   },
   "notebookName": "readcsv-circuits",
   "widgets": {}
  },
  "language_info": {
   "name": "python"
  }
 },
 "nbformat": 4,
 "nbformat_minor": 0
}
