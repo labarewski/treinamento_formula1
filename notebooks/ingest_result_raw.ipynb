{
 "cells": [
  {
   "cell_type": "code",
   "execution_count": 0,
   "metadata": {
    "application/vnd.databricks.v1+cell": {
     "cellMetadata": {
      "byteLimit": 2048000,
      "rowLimit": 10000
     },
     "inputWidgets": {},
     "nuid": "090f4464-d3fe-481d-b680-eb7fda2e6f08",
     "showTitle": false,
     "tableResultSettingsMap": {},
     "title": ""
    }
   },
   "outputs": [],
   "source": [
    "from pyspark.sql.types import StructType, StructField, StringType, IntegerType, DoubleType"
   ]
  },
  {
   "cell_type": "code",
   "execution_count": 0,
   "metadata": {
    "application/vnd.databricks.v1+cell": {
     "cellMetadata": {
      "byteLimit": 2048000,
      "rowLimit": 10000
     },
     "inputWidgets": {},
     "nuid": "4f551e40-2466-4802-8ac5-6a2600688578",
     "showTitle": false,
     "tableResultSettingsMap": {},
     "title": ""
    }
   },
   "outputs": [],
   "source": [
    "%run ./Utils/PathUtils"
   ]
  },
  {
   "cell_type": "code",
   "execution_count": 0,
   "metadata": {
    "application/vnd.databricks.v1+cell": {
     "cellMetadata": {
      "byteLimit": 2048000,
      "rowLimit": 10000
     },
     "inputWidgets": {},
     "nuid": "2eed810c-716d-43e8-9c0c-5e2829c528ce",
     "showTitle": false,
     "tableResultSettingsMap": {},
     "title": ""
    }
   },
   "outputs": [],
   "source": [
    "instance = DatabricksInstanceInfo('treinamento_formula1')\n",
    "filename = 'results.json'\n",
    "instance.set_dbfs_save_path('mnt','formula1/bronze/results',filename)\n",
    "dfSchema = StructType(\n",
    "    [\n",
    "        StructField('resultId', IntegerType(), False),\n",
    "        StructField('raceId', IntegerType(), True),\n",
    "        StructField('driverId', IntegerType(), True),  \n",
    "        StructField('constructorId', IntegerType(), True),\n",
    "        StructField('number', IntegerType(), True),\n",
    "        StructField('grid', IntegerType(), True),\n",
    "        StructField('fastestLap', StringType(), True),\n",
    "        StructField('fastestLapSpeed', DoubleType(), True),\n",
    "        StructField('fastestLapTime', StringType(), True),\n",
    "        StructField('laps', IntegerType(), True),\n",
    "        StructField('milliseconds', StringType(), True),\n",
    "        StructField('points', IntegerType(), True),\n",
    "        StructField('rank', StringType(), True),\n",
    "        StructField('resultId', IntegerType(), True),\n",
    "        StructField('statusId', IntegerType(), True),\n",
    "        StructField('time', DoubleType(), True)\n",
    "    ]\n",
    ")"
   ]
  },
  {
   "cell_type": "code",
   "execution_count": 0,
   "metadata": {
    "application/vnd.databricks.v1+cell": {
     "cellMetadata": {
      "byteLimit": 2048000,
      "rowLimit": 10000
     },
     "inputWidgets": {},
     "nuid": "62904faf-9ea5-42d9-9861-c8b76fdc1425",
     "showTitle": false,
     "tableResultSettingsMap": {},
     "title": ""
    }
   },
   "outputs": [],
   "source": [
    "dataframe = spark.read.format('json').load(f'{instance.file_path}/landing/{filename}')\n",
    "dataframe.printSchema()"
   ]
  }
 ],
 "metadata": {
  "application/vnd.databricks.v1+notebook": {
   "computePreferences": null,
   "dashboards": [],
   "environmentMetadata": {
    "base_environment": "",
    "environment_version": "2"
   },
   "language": "python",
   "notebookMetadata": {
    "pythonIndentUnit": 4
   },
   "notebookName": "ingest_result_raw",
   "widgets": {}
  },
  "language_info": {
   "name": "python"
  }
 },
 "nbformat": 4,
 "nbformat_minor": 0
}
