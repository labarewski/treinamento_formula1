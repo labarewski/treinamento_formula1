{
 "cells": [
  {
   "cell_type": "code",
   "execution_count": 0,
   "metadata": {
    "application/vnd.databricks.v1+cell": {
     "cellMetadata": {},
     "inputWidgets": {},
     "nuid": "3a6542dd-179c-4130-b479-a02de6d7f0f4",
     "showTitle": false,
     "tableResultSettingsMap": {},
     "title": ""
    }
   },
   "outputs": [],
   "source": [
    "import re\n",
    "import json"
   ]
  },
  {
   "cell_type": "code",
   "execution_count": 0,
   "metadata": {
    "application/vnd.databricks.v1+cell": {
     "cellMetadata": {
      "byteLimit": 2048000,
      "rowLimit": 10000
     },
     "inputWidgets": {},
     "nuid": "312d87e0-05c7-4ba0-bcb0-1816dabd6a9c",
     "showTitle": false,
     "tableResultSettingsMap": {},
     "title": ""
    }
   },
   "outputs": [],
   "source": [
    "class FormatterUtils:\n",
    "    def format_json(file):\n",
    "        file = re.sub(r'\\,\\n\\s*', ',', file)\n",
    "        file = re.sub(r'{\\s*', '{', file)\n",
    "        file = re.sub(r'\\s*\\}\\,?', '}', file)\n",
    "        file = re.sub(r'\\[\\n?\\s*', '', file)\n",
    "        file = re.sub(r'\\n?\\s*?\\]', '', file)\n",
    "        file = re.sub('\\}\\{', '}\\n{',file)\n",
    "\n",
    "        return file"
   ]
  }
 ],
 "metadata": {
  "application/vnd.databricks.v1+notebook": {
   "computePreferences": null,
   "dashboards": [],
   "environmentMetadata": {
    "base_environment": "",
    "environment_version": "2"
   },
   "language": "python",
   "notebookMetadata": {
    "pythonIndentUnit": 4
   },
   "notebookName": "FormatterUtils",
   "widgets": {}
  },
  "language_info": {
   "name": "python"
  }
 },
 "nbformat": 4,
 "nbformat_minor": 0
}
