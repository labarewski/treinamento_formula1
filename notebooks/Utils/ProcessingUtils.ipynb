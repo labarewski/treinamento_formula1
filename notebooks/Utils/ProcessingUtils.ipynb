{
 "cells": [
  {
   "cell_type": "code",
   "execution_count": 0,
   "metadata": {
    "application/vnd.databricks.v1+cell": {
     "cellMetadata": {
      "byteLimit": 2048000,
      "rowLimit": 10000
     },
     "inputWidgets": {},
     "nuid": "1ee016df-10b9-42eb-af58-3d8723b7ace0",
     "showTitle": false,
     "tableResultSettingsMap": {},
     "title": ""
    }
   },
   "outputs": [],
   "source": [
    "from pyspark.sql import DataFrame\n",
    "from pyspark.sql.functions import lit"
   ]
  },
  {
   "cell_type": "code",
   "execution_count": 0,
   "metadata": {
    "application/vnd.databricks.v1+cell": {
     "cellMetadata": {
      "byteLimit": 2048000,
      "rowLimit": 10000
     },
     "inputWidgets": {},
     "nuid": "1d91278f-800b-492e-8679-4d7252db4022",
     "showTitle": false,
     "tableResultSettingsMap": {},
     "title": ""
    }
   },
   "outputs": [],
   "source": [
    "class Refine:\n",
    "    def __init__(self, df: DataFrame):\n",
    "        self.df = df\n",
    "\n",
    "    def renamecol(self, colmap):\n",
    "        self.df = self.df.toDF(*colmap)\n",
    "        return self\n",
    "    \n",
    "    def addcol(self, colname, datatype, colvalue=None):\n",
    "        self.df = self.df.withColumn(colname, lit(colvalue).cast(datatype))\n",
    "        return self\n",
    "    \n",
    "    def load(self):\n",
    "        return self.df"
   ]
  }
 ],
 "metadata": {
  "application/vnd.databricks.v1+notebook": {
   "computePreferences": null,
   "dashboards": [],
   "environmentMetadata": {
    "base_environment": "",
    "environment_version": "2"
   },
   "language": "python",
   "notebookMetadata": {
    "pythonIndentUnit": 4
   },
   "notebookName": "ProcessingUtils",
   "widgets": {}
  },
  "language_info": {
   "name": "python"
  }
 },
 "nbformat": 4,
 "nbformat_minor": 0
}
