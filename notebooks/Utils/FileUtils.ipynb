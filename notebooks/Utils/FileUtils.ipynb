{
 "cells": [
  {
   "cell_type": "code",
   "execution_count": 0,
   "metadata": {
    "application/vnd.databricks.v1+cell": {
     "cellMetadata": {
      "byteLimit": 2048000,
      "rowLimit": 10000
     },
     "inputWidgets": {},
     "nuid": "0ffa07ac-6dfa-4c8f-8e78-0dbd7e4529b0",
     "showTitle": false,
     "tableResultSettingsMap": {},
     "title": ""
    }
   },
   "outputs": [],
   "source": [
    "%run ./FormatterUtils"
   ]
  },
  {
   "cell_type": "code",
   "execution_count": 0,
   "metadata": {
    "application/vnd.databricks.v1+cell": {
     "cellMetadata": {
      "byteLimit": 2048000,
      "rowLimit": 10000
     },
     "inputWidgets": {},
     "nuid": "0ae32582-f449-4765-afaa-4fd9fcf9fca0",
     "showTitle": false,
     "tableResultSettingsMap": {},
     "title": ""
    }
   },
   "outputs": [],
   "source": [
    "class FileUtils:\n",
    "    @staticmethod\n",
    "    def rewrite_file_to(file, str):\n",
    "        file.seek(0)\n",
    "        file.write(re.sub(r\"<string>ABC</string>(\\s+)<string>(.*)</string>\", r\"<xyz>ABC</xyz>\\1<xyz>\\2</xyz>\", str))\n",
    "        file.truncate()\n",
    "\n",
    "    @staticmethod\n",
    "    def fix_corrupted_file(file_path=None, file_name=None, file_type=None):\n",
    "        formatters = {'json': FormatterUtils.json_formatter}\n",
    "\n",
    "        if file_type == 'json':\n",
    "            with open(f'{file_path}/{file_name}', 'r+') as bad_json:\n",
    "                f_json = formatters['json'](bad_json.read())\n",
    "                FileUtils.rewrite_file_to(bad_json, f_json)\n",
    "                bad_json.close()\n",
    "                return f_json\n",
    "                \n",
    "\n",
    "                "
   ]
  }
 ],
 "metadata": {
  "application/vnd.databricks.v1+notebook": {
   "computePreferences": null,
   "dashboards": [],
   "environmentMetadata": {
    "base_environment": "",
    "environment_version": "2"
   },
   "language": "python",
   "notebookMetadata": {
    "pythonIndentUnit": 4
   },
   "notebookName": "FileUtils",
   "widgets": {}
  },
  "language_info": {
   "name": "python"
  }
 },
 "nbformat": 4,
 "nbformat_minor": 0
}
