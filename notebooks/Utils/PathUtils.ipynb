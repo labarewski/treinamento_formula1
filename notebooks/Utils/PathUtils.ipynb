{
 "cells": [
  {
   "cell_type": "code",
   "execution_count": 0,
   "metadata": {
    "application/vnd.databricks.v1+cell": {
     "cellMetadata": {
      "byteLimit": 2048000,
      "rowLimit": 10000
     },
     "inputWidgets": {},
     "nuid": "d094462a-8293-44d8-b418-a3068dd56c47",
     "showTitle": false,
     "tableResultSettingsMap": {},
     "title": ""
    }
   },
   "outputs": [],
   "source": [
    "class DatabricksInstanceInfo:\n",
    "    user_name = ''\n",
    "    git_folder = ''\n",
    "\n",
    "    _filestore_filepath = ''\n",
    "\n",
    "    __dbfs_filepath = ''\n",
    "    __dbfs_save_path = ''\n",
    "\n",
    "    instanceDefaultSettings = True\n",
    "\n",
    "    def __init__(self, git_folder_name):\n",
    "        self.git_folder = git_folder_name\n",
    "        self.user_name =  str(dbutils.fs.ls(\"file:/Workspace/Users/\")).split('/')[3]\n",
    "        self._filestore_filepath = f'file:/Workspace/Users/{self.user_name}/{self.git_folder}/landing'\n",
    "\n",
    "    def get_filepath(self):\n",
    "        return self._filestore_filepath\n",
    "    \n",
    "    def get_dbfs_filepath(self):\n",
    "        return self.__dbfs_filepath\n",
    "\n",
    "    def get_dbfs_save_path(self):\n",
    "        return self.__dbfs_save_path\n",
    "    \n",
    "    def set_filestore_filepath(self, user_name, git_folder_name, files_folder, file):\n",
    "        self._filestore_filepath = f'file:/Workspace/Users/{self.user_name}/{self.git_folder}/{files_folder}/{file}'\n",
    "    \n",
    "    def set_dbfs_filespath(self, dbsf_dir, folders_dir):\n",
    "        self.__dbfs_filespath = f'dbfs:/{dbsf_dir}/{folders_dir}'\n",
    "        self.__instanceDefaultSettings = False\n",
    "        \n",
    "    def set_dbfs_save_path(self, dbsf_dir, folders_dir, file_name):\n",
    "        self.__dbfs_save_path = f'dbfs:/{dbsf_dir}/{folders_dir}/{file_name}'\n",
    "        self.__instanceDefaultSettings = False"
   ]
  }
 ],
 "metadata": {
  "application/vnd.databricks.v1+notebook": {
   "computePreferences": null,
   "dashboards": [],
   "environmentMetadata": {
    "base_environment": "",
    "environment_version": "2"
   },
   "language": "python",
   "notebookMetadata": {
    "pythonIndentUnit": 4
   },
   "notebookName": "PathUtils",
   "widgets": {}
  },
  "language_info": {
   "name": "python"
  }
 },
 "nbformat": 4,
 "nbformat_minor": 0
}
