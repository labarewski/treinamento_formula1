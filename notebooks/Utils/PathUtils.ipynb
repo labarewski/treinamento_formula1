{
 "cells": [
  {
   "cell_type": "code",
   "execution_count": 0,
   "metadata": {
    "application/vnd.databricks.v1+cell": {
     "cellMetadata": {
      "byteLimit": 2048000,
      "rowLimit": 10000
     },
     "inputWidgets": {},
     "nuid": "d094462a-8293-44d8-b418-a3068dd56c47",
     "showTitle": false,
     "tableResultSettingsMap": {},
     "title": ""
    }
   },
   "outputs": [],
   "source": [
    "class DatabricksInstanceInfo:\n",
    "    user_name = ''\n",
    "    dbfs_save_path = ''\n",
    "    file_path = ''\n",
    "    git_folder = ''\n",
    "\n",
    "    def __init__(self, git_folder_name):\n",
    "        self.user_name =  str(dbutils.fs.ls(\"file:/Workspace/Users/\")).split('/')[3]\n",
    "        self.git_folder = git_folder_name\n",
    "        self.file_path = f'file:/Workspace/Users/{self.user_name}/{self.git_folder}'\n",
    "\n",
    "    def set_dbfs_save_path(self, dbsf_dir, folders_dir, file_name):\n",
    "        self.dbfs_path = f'{dbsf_dir}/{folders_dir}/{file_name}'"
   ]
  }
 ],
 "metadata": {
  "application/vnd.databricks.v1+notebook": {
   "computePreferences": null,
   "dashboards": [],
   "environmentMetadata": {
    "base_environment": "",
    "environment_version": "2"
   },
   "language": "python",
   "notebookMetadata": {
    "pythonIndentUnit": 4
   },
   "notebookName": "PathUtils",
   "widgets": {}
  },
  "language_info": {
   "name": "python"
  }
 },
 "nbformat": 4,
 "nbformat_minor": 0
}
