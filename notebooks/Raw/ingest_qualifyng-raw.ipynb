{
 "cells": [
  {
   "cell_type": "code",
   "execution_count": 0,
   "metadata": {
    "application/vnd.databricks.v1+cell": {
     "cellMetadata": {
      "byteLimit": 2048000,
      "rowLimit": 10000
     },
     "inputWidgets": {},
     "nuid": "c2d16f0e-45cf-45a8-8ca5-032038be6c54",
     "showTitle": false,
     "tableResultSettingsMap": {},
     "title": ""
    }
   },
   "outputs": [],
   "source": [
    "from pyspark.sql.types import StructType, StructField, IntegerType, StringType, TimestampType, FloatType, DoubleType\n",
    "import os"
   ]
  },
  {
   "cell_type": "code",
   "execution_count": 0,
   "metadata": {
    "application/vnd.databricks.v1+cell": {
     "cellMetadata": {
      "byteLimit": 2048000,
      "rowLimit": 10000
     },
     "inputWidgets": {},
     "nuid": "a79aa4bf-d431-4d15-a53f-bd4155de3905",
     "showTitle": false,
     "tableResultSettingsMap": {},
     "title": ""
    }
   },
   "outputs": [],
   "source": [
    "%run ../Utils/DBInstanceUtils"
   ]
  },
  {
   "cell_type": "code",
   "execution_count": 0,
   "metadata": {
    "application/vnd.databricks.v1+cell": {
     "cellMetadata": {
      "byteLimit": 2048000,
      "rowLimit": 10000
     },
     "inputWidgets": {},
     "nuid": "5701511b-1c38-4f5e-953e-cebd891755c1",
     "showTitle": false,
     "tableResultSettingsMap": {},
     "title": ""
    }
   },
   "outputs": [],
   "source": [
    "%run ../Utils/ProcessingUtils"
   ]
  },
  {
   "cell_type": "code",
   "execution_count": 0,
   "metadata": {
    "application/vnd.databricks.v1+cell": {
     "cellMetadata": {
      "byteLimit": 2048000,
      "rowLimit": 10000
     },
     "inputWidgets": {},
     "nuid": "af75c06c-35b8-452e-8571-14bef2ea0b8c",
     "showTitle": false,
     "tableResultSettingsMap": {},
     "title": ""
    }
   },
   "outputs": [],
   "source": [
    "%run ../Utils/FormatterUtils"
   ]
  },
  {
   "cell_type": "code",
   "execution_count": 0,
   "metadata": {
    "application/vnd.databricks.v1+cell": {
     "cellMetadata": {
      "byteLimit": 2048000,
      "rowLimit": 10000
     },
     "inputWidgets": {},
     "nuid": "81994548-dbdc-4370-b9cd-61026b5f17e5",
     "showTitle": false,
     "tableResultSettingsMap": {},
     "title": ""
    }
   },
   "outputs": [],
   "source": [
    "%run ../Utils/FileUtils"
   ]
  },
  {
   "cell_type": "code",
   "execution_count": 0,
   "metadata": {
    "application/vnd.databricks.v1+cell": {
     "cellMetadata": {
      "byteLimit": 2048000,
      "rowLimit": 10000
     },
     "inputWidgets": {},
     "nuid": "2520b691-30ab-492b-aa23-c06cf1e1242f",
     "showTitle": false,
     "tableResultSettingsMap": {},
     "title": ""
    }
   },
   "outputs": [],
   "source": [
    "def file_to_Df(path, extension, mode=\"FAILFAST\"):\n",
    "    try:\n",
    "        df = (spark.read\n",
    "        .format(extension)\n",
    "        .option('mode', mode)\n",
    "        .load(path))\n",
    "    except Exception as e:\n",
    "        raise e\n",
    "    return df"
   ]
  },
  {
   "cell_type": "code",
   "execution_count": 0,
   "metadata": {
    "application/vnd.databricks.v1+cell": {
     "cellMetadata": {
      "byteLimit": 2048000,
      "rowLimit": 10000
     },
     "inputWidgets": {},
     "nuid": "be030bd4-ca55-4912-91dc-98e6097eddc4",
     "showTitle": false,
     "tableResultSettingsMap": {},
     "title": ""
    }
   },
   "outputs": [],
   "source": [
    "instance = DBInstanceUtils('treinamento_formula1')\n",
    "file1_name = 'qualifying_split_1'\n",
    "file2_name = 'qualifying_split_2'\n",
    "extension = 'json'\n",
    "\n",
    "file1 = f'{file1_name}.{extension}'\n",
    "file2 = f'{file2_name }.{extension}'\n",
    "\n",
    "abs_path = f'{instance.get_filepath()}/qualifying/'.replace('file:','')\n",
    "\n",
    "schema = {\n",
    "    \"constructorId\": IntegerType(),\n",
    "    \"driverId\": IntegerType(),\n",
    "    \"number\": IntegerType(),\n",
    "    \"position\": IntegerType(),\n",
    "    \"q1\": StringType(),\n",
    "    \"q2\": StringType(),\n",
    "    \"q3\": StringType(),\n",
    "    \"qualifyId\": IntegerType(),\n",
    "    \"raceId\": IntegerType()\n",
    "}"
   ]
  },
  {
   "cell_type": "code",
   "execution_count": 0,
   "metadata": {
    "application/vnd.databricks.v1+cell": {
     "cellMetadata": {
      "byteLimit": 2048000,
      "rowLimit": 10000
     },
     "inputWidgets": {},
     "nuid": "aa07f771-17e4-4a67-a597-62dd564f2ad8",
     "showTitle": false,
     "tableResultSettingsMap": {},
     "title": ""
    }
   },
   "outputs": [],
   "source": [
    "try:\n",
    "    df_1 = file_to_Df(f'{instance.get_filepath()}/qualifying/{file1}', extension)\n",
    "except Exception:\n",
    "    print('CORRUPTED RECORDS DETECTED, ATTEMPTING TO FIX...')\n",
    "    try:\n",
    "      FileUtils.fix_corrupted_file(abs_path, file1, 'json')\n",
    "    except Exception as fatal_error:\n",
    "        dbutils.notebook.exit(f'READ FAILED!! - ABORTING PROGRAM\\n{fatal_error}')\n",
    "    finally:\n",
    "      print('RECORDS FIXED.')"
   ]
  },
  {
   "cell_type": "code",
   "execution_count": 0,
   "metadata": {
    "application/vnd.databricks.v1+cell": {
     "cellMetadata": {
      "byteLimit": 2048000,
      "rowLimit": 10000
     },
     "inputWidgets": {},
     "nuid": "c4b98dc9-4a65-4788-8459-813e0c66b48b",
     "showTitle": false,
     "tableResultSettingsMap": {},
     "title": ""
    }
   },
   "outputs": [],
   "source": [
    "try:\n",
    "    df_2 = file_to_Df(f'{instance.get_filepath()}/qualifying/{file2}', extension)\n",
    "except Exception:\n",
    "    print('CORRUPTED RECORDS DETECTED, ATTEMPTING TO FIX...')\n",
    "    try:\n",
    "      FileUtils.fix_corrupted_file(abs_path, file2, 'json')\n",
    "    except Exception as fatal_error:\n",
    "        dbutils.notebook.exit(f'READ FAILED!! - ABORTING PROGRAM\\n{fatal_error}')\n",
    "    finally:\n",
    "      print('RECORDS FIXED.')"
   ]
  },
  {
   "cell_type": "code",
   "execution_count": 0,
   "metadata": {
    "application/vnd.databricks.v1+cell": {
     "cellMetadata": {
      "byteLimit": 2048000,
      "rowLimit": 10000
     },
     "inputWidgets": {},
     "nuid": "3efbca60-db0a-4de5-8cee-763fed0abc1e",
     "showTitle": false,
     "tableResultSettingsMap": {},
     "title": ""
    }
   },
   "outputs": [],
   "source": [
    "df = df_1.union(df_2)\n",
    "\n",
    "df = (Refine(df)\n",
    "      .enforce_schema(schema)\n",
    "      .camelCase_to_snake_case()\n",
    "      .load())\n",
    "\n",
    "df.display()"
   ]
  },
  {
   "cell_type": "code",
   "execution_count": 0,
   "metadata": {
    "application/vnd.databricks.v1+cell": {
     "cellMetadata": {
      "byteLimit": 2048000,
      "rowLimit": 10000
     },
     "inputWidgets": {},
     "nuid": "a2a52797-5854-4756-b7a8-720cb2e391ab",
     "showTitle": false,
     "tableResultSettingsMap": {},
     "title": ""
    }
   },
   "outputs": [],
   "source": [
    "filename    = 'pitstopsRaw'\n",
    "extension   = 'delta'\n",
    "file        = f'{filename}.{extension}'\n",
    "DBInstanceUtils.set_dbfs_savepath(instance, 'mnt', f'formula1/bronze/pitstops', file)"
   ]
  },
  {
   "cell_type": "code",
   "execution_count": 0,
   "metadata": {
    "application/vnd.databricks.v1+cell": {
     "cellMetadata": {
      "byteLimit": 2048000,
      "rowLimit": 10000
     },
     "inputWidgets": {},
     "nuid": "10737cd1-0277-4409-b650-8c008e8d8692",
     "showTitle": false,
     "tableResultSettingsMap": {},
     "title": ""
    }
   },
   "outputs": [],
   "source": [
    "df.write.format(\"delta\").mode(\"overwrite\").save(instance.get_dbfs_savepath())"
   ]
  }
 ],
 "metadata": {
  "application/vnd.databricks.v1+notebook": {
   "computePreferences": null,
   "dashboards": [],
   "environmentMetadata": {
    "base_environment": "",
    "environment_version": "1"
   },
   "language": "python",
   "notebookMetadata": {
    "pythonIndentUnit": 4
   },
   "notebookName": "ingest_qualifyng-raw",
   "widgets": {}
  },
  "language_info": {
   "name": "python"
  }
 },
 "nbformat": 4,
 "nbformat_minor": 0
}
