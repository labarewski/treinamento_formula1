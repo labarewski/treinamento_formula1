{
 "cells": [
  {
   "cell_type": "code",
   "execution_count": 0,
   "metadata": {
    "application/vnd.databricks.v1+cell": {
     "cellMetadata": {
      "byteLimit": 2048000,
      "rowLimit": 10000
     },
     "inputWidgets": {},
     "nuid": "090f4464-d3fe-481d-b680-eb7fda2e6f08",
     "showTitle": false,
     "tableResultSettingsMap": {},
     "title": ""
    }
   },
   "outputs": [],
   "source": [
    "import pyspark.sql.types as T"
   ]
  },
  {
   "cell_type": "code",
   "execution_count": 0,
   "metadata": {
    "application/vnd.databricks.v1+cell": {
     "cellMetadata": {
      "byteLimit": 2048000,
      "rowLimit": 10000
     },
     "inputWidgets": {},
     "nuid": "4f551e40-2466-4802-8ac5-6a2600688578",
     "showTitle": false,
     "tableResultSettingsMap": {},
     "title": ""
    }
   },
   "outputs": [],
   "source": [
    "%run ../Utils/DBInstanceUtils"
   ]
  },
  {
   "cell_type": "code",
   "execution_count": 0,
   "metadata": {
    "application/vnd.databricks.v1+cell": {
     "cellMetadata": {
      "byteLimit": 2048000,
      "rowLimit": 10000
     },
     "inputWidgets": {},
     "nuid": "2eed810c-716d-43e8-9c0c-5e2829c528ce",
     "showTitle": false,
     "tableResultSettingsMap": {},
     "title": ""
    }
   },
   "outputs": [],
   "source": [
    "instance = DBInstanceUtils('treinamento_formula1')\n",
    "filename = 'results'\n",
    "extension = 'json'\n",
    "file = f'{filename}.{extension}'\n",
    "dfSchema = StructType(\n",
    "    [\n",
    "        StructField('constructorId', T.IntegerType(), True),\n",
    "        StructField('driverId', T.IntegerType(), True),\n",
    "        StructField('fastestLap', T.IntegerType(), True),\n",
    "        StructField('fastestLapSpeed', T.FloatType(), True),\n",
    "        StructField('fastestLapTime', T.StringType(), True),\n",
    "        StructField('grid', T.IntegerType(), True),\n",
    "        StructField('laps', T.IntegerType(), True),\n",
    "        StructField('milliseconds', T.DoubleType(), True),\n",
    "        StructField('number', T.IntegerType(), True),\n",
    "        StructField('points', T.IntegerType(), True),\n",
    "        StructField('position', T.IntegerType(), True),\n",
    "        StructField('positionOrder', T.IntegerType(), True),\n",
    "        StructField('positionText', T.StringType(), True),\n",
    "        StructField('raceId', T.IntegerType(), True),\n",
    "        StructField('rank', T.IntegerType(), True),\n",
    "        StructField('resultId', T.IntegerType(), False),\n",
    "        StructField('statusId', T.IntegerType(), True),\n",
    "        StructField('time', T.StringType(), True)\n",
    "    ]\n",
    ")"
   ]
  },
  {
   "cell_type": "code",
   "execution_count": 0,
   "metadata": {
    "application/vnd.databricks.v1+cell": {
     "cellMetadata": {
      "byteLimit": 2048000,
      "rowLimit": 10000
     },
     "inputWidgets": {},
     "nuid": "62904faf-9ea5-42d9-9861-c8b76fdc1425",
     "showTitle": false,
     "tableResultSettingsMap": {},
     "title": ""
    }
   },
   "outputs": [],
   "source": [
    "\n",
    "dataframe = spark.read.format('json').schema(dfSchema).load(f'{instance.get_filepath()}/{file}')\n",
    "dataframe.display()"
   ]
  },
  {
   "cell_type": "code",
   "execution_count": 0,
   "metadata": {
    "application/vnd.databricks.v1+cell": {
     "cellMetadata": {
      "byteLimit": 2048000,
      "rowLimit": 10000
     },
     "inputWidgets": {},
     "nuid": "21e749af-1531-44ac-8d58-930480cebf30",
     "showTitle": false,
     "tableResultSettingsMap": {},
     "title": ""
    }
   },
   "outputs": [],
   "source": [
    "filename = 'resultsRaw'\n",
    "extension = '.delta'\n",
    "file = filename+extension\n",
    "DBInstanceUtils.set_dbfs_savepath(instance,'mnt','formula1/bronze/results',file)"
   ]
  },
  {
   "cell_type": "code",
   "execution_count": 0,
   "metadata": {
    "application/vnd.databricks.v1+cell": {
     "cellMetadata": {
      "byteLimit": 2048000,
      "rowLimit": 10000
     },
     "inputWidgets": {},
     "nuid": "ba85e52c-5201-4f5e-b049-4262fbdc66a0",
     "showTitle": false,
     "tableResultSettingsMap": {},
     "title": ""
    }
   },
   "outputs": [],
   "source": [
    "dataframe.write.mode('overwrite').save(instance.dbfs_save_path)"
   ]
  }
 ],
 "metadata": {
  "application/vnd.databricks.v1+notebook": {
   "computePreferences": null,
   "dashboards": [],
   "environmentMetadata": {
    "base_environment": "",
    "environment_version": "2"
   },
   "language": "python",
   "notebookMetadata": {
    "pythonIndentUnit": 4
   },
   "notebookName": "ingest_result-raw",
   "widgets": {}
  },
  "language_info": {
   "name": "python"
  }
 },
 "nbformat": 4,
 "nbformat_minor": 0
}
