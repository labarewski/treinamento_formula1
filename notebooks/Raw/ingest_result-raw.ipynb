{
 "cells": [
  {
   "cell_type": "code",
   "execution_count": 0,
   "metadata": {
    "application/vnd.databricks.v1+cell": {
     "cellMetadata": {
      "byteLimit": 2048000,
      "rowLimit": 10000
     },
     "inputWidgets": {},
     "nuid": "090f4464-d3fe-481d-b680-eb7fda2e6f08",
     "showTitle": false,
     "tableResultSettingsMap": {},
     "title": ""
    }
   },
   "outputs": [],
   "source": [
    "from pyspark.sql.types import StructType, StructField, StringType, IntegerType, FloatType"
   ]
  },
  {
   "cell_type": "code",
   "execution_count": 0,
   "metadata": {
    "application/vnd.databricks.v1+cell": {
     "cellMetadata": {
      "byteLimit": 2048000,
      "rowLimit": 10000
     },
     "inputWidgets": {},
     "nuid": "4f551e40-2466-4802-8ac5-6a2600688578",
     "showTitle": false,
     "tableResultSettingsMap": {},
     "title": ""
    }
   },
   "outputs": [],
   "source": [
    "%run ../Utils/DBInstanceUtils"
   ]
  },
  {
   "cell_type": "code",
   "execution_count": 0,
   "metadata": {
    "application/vnd.databricks.v1+cell": {
     "cellMetadata": {
      "byteLimit": 2048000,
      "rowLimit": 10000
     },
     "inputWidgets": {},
     "nuid": "2eed810c-716d-43e8-9c0c-5e2829c528ce",
     "showTitle": false,
     "tableResultSettingsMap": {},
     "title": ""
    }
   },
   "outputs": [],
   "source": [
    "instance = DBInstanceUtils('treinamento_formula1')\n",
    "filename = 'results'\n",
    "extension = 'json'\n",
    "file = filename + '.' + extension\n",
    "print(file)\n",
    "dfSchema = StructType(\n",
    "    [\n",
    "        StructField('resultId', IntegerType(), False),\n",
    "        StructField('raceId', IntegerType(), True),\n",
    "        StructField('driverId', IntegerType(), True),  \n",
    "        StructField('constructorId', IntegerType(), True),\n",
    "        StructField('number', IntegerType(), True),\n",
    "        StructField('grid', IntegerType(), True),\n",
    "        StructField('position', IntegerType(), True),\n",
    "        StructField('positionText', StringType(), True),\n",
    "        StructField('positionOrder', IntegerType(), True),\n",
    "        StructField('points', FloatType(), True),\n",
    "        StructField('laps', IntegerType(), True),\n",
    "        StructField('time', StringType(), True),\n",
    "        StructField('milliseconds', IntegerType(), True),\n",
    "        StructField('fastestLap', IntegerType(), True),\n",
    "        StructField('rank', IntegerType(), True),\n",
    "        StructField('fastestLapTime', StringType(), True),\n",
    "        StructField('fastestLapSpeed', FloatType(), True),\n",
    "        StructField('statusId', StringType(), True)\n",
    "    ]\n",
    ")"
   ]
  },
  {
   "cell_type": "markdown",
   "metadata": {
    "application/vnd.databricks.v1+cell": {
     "cellMetadata": {},
     "inputWidgets": {},
     "nuid": "8a9337e4-d0b8-4695-8e2e-a8cc36965bc5",
     "showTitle": false,
     "tableResultSettingsMap": {},
     "title": ""
    }
   },
   "source": [
    "### Lendo o JSON e atribuindo Schema"
   ]
  },
  {
   "cell_type": "code",
   "execution_count": 0,
   "metadata": {
    "application/vnd.databricks.v1+cell": {
     "cellMetadata": {
      "byteLimit": 2048000,
      "rowLimit": 10000
     },
     "inputWidgets": {},
     "nuid": "62904faf-9ea5-42d9-9861-c8b76fdc1425",
     "showTitle": false,
     "tableResultSettingsMap": {},
     "title": ""
    }
   },
   "outputs": [],
   "source": [
    "\n",
    "dataframe = (spark.read\n",
    "             .format('json')\n",
    "             .schema(dfSchema)\n",
    "             .load(f'{instance.get_filepath()}/{file}'))"
   ]
  },
  {
   "cell_type": "markdown",
   "metadata": {
    "application/vnd.databricks.v1+cell": {
     "cellMetadata": {},
     "inputWidgets": {},
     "nuid": "a4d067a1-30b2-4a19-85c8-7abde1a64956",
     "showTitle": false,
     "tableResultSettingsMap": {},
     "title": ""
    }
   },
   "source": [
    "## Re-atribuindo parametros"
   ]
  },
  {
   "cell_type": "code",
   "execution_count": 0,
   "metadata": {
    "application/vnd.databricks.v1+cell": {
     "cellMetadata": {
      "byteLimit": 2048000,
      "rowLimit": 10000
     },
     "inputWidgets": {},
     "nuid": "21e749af-1531-44ac-8d58-930480cebf30",
     "showTitle": false,
     "tableResultSettingsMap": {},
     "title": ""
    }
   },
   "outputs": [],
   "source": [
    "filename = 'resultsRaw'\n",
    "extension = '.delta'\n",
    "file = filename+extension\n",
    "DBInstanceUtils.set_dbfs_savepath(instance,'mnt','formula1/bronze/results',file)"
   ]
  },
  {
   "cell_type": "markdown",
   "metadata": {
    "application/vnd.databricks.v1+cell": {
     "cellMetadata": {},
     "inputWidgets": {},
     "nuid": "adc44efa-9725-4393-b9e9-8a92ff9b55f0",
     "showTitle": false,
     "tableResultSettingsMap": {},
     "title": ""
    }
   },
   "source": [
    "## Escrevendo o arquivo"
   ]
  },
  {
   "cell_type": "code",
   "execution_count": 0,
   "metadata": {
    "application/vnd.databricks.v1+cell": {
     "cellMetadata": {
      "byteLimit": 2048000,
      "rowLimit": 10000
     },
     "inputWidgets": {},
     "nuid": "ba85e52c-5201-4f5e-b049-4262fbdc66a0",
     "showTitle": false,
     "tableResultSettingsMap": {},
     "title": ""
    }
   },
   "outputs": [],
   "source": [
    "dataframe.write.mode('overwrite').save(instance.get_dbfs_savepath())"
   ]
  }
 ],
 "metadata": {
  "application/vnd.databricks.v1+notebook": {
   "computePreferences": null,
   "dashboards": [],
   "environmentMetadata": {
    "base_environment": "",
    "environment_version": "2"
   },
   "language": "python",
   "notebookMetadata": {
    "pythonIndentUnit": 4
   },
   "notebookName": "ingest_result-raw",
   "widgets": {}
  },
  "language_info": {
   "name": "python"
  }
 },
 "nbformat": 4,
 "nbformat_minor": 0
}
