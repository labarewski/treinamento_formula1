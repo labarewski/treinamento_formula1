{
 "cells": [
  {
   "cell_type": "code",
   "execution_count": 0,
   "metadata": {
    "application/vnd.databricks.v1+cell": {
     "cellMetadata": {
      "byteLimit": 2048000,
      "rowLimit": 10000
     },
     "inputWidgets": {},
     "nuid": "c87f628a-e554-41e6-9b69-c378fda52dbb",
     "showTitle": false,
     "tableResultSettingsMap": {},
     "title": ""
    }
   },
   "outputs": [],
   "source": [
    "def cast_columntypes(df):\n",
    "    for col, dtype in dfDict.items():\n",
    "        df = alter_type(df, col, dtype)\n",
    "    return df\n",
    "\n",
    "def alter_type(df, coluna, tipo):\n",
    "    return df.withColumn(coluna, df[coluna].cast(tipo))"
   ]
  },
  {
   "cell_type": "code",
   "execution_count": 0,
   "metadata": {
    "application/vnd.databricks.v1+cell": {
     "cellMetadata": {
      "byteLimit": 2048000,
      "rowLimit": 10000
     },
     "inputWidgets": {},
     "nuid": "6697c836-2531-42e0-9bcb-1d9af9c56498",
     "showTitle": false,
     "tableResultSettingsMap": {},
     "title": ""
    }
   },
   "outputs": [],
   "source": [
    "user = str(dbutils.fs.ls(\"file:/Workspace/Users/\")).split('/')[3]\n",
    "filespath = \"file:/Workspace/Users/\" + f\"{user}/treinamento_formula1/landing\"\n",
    "savepath = \"dbfs:/mnt/formula1/bronze/circuit\"\n",
    "dfDict = {\n",
    "    'circuitId': 'integer',\n",
    "    'circuitRef': 'string',\n",
    "    'name': 'string',\n",
    "    'location': 'string',\n",
    "    'country': 'string',\n",
    "    'lat': 'double',\n",
    "    'lng': 'double',\n",
    "    'alt': 'integer',\n",
    "    'url': 'string'\n",
    "}"
   ]
  },
  {
   "cell_type": "code",
   "execution_count": 0,
   "metadata": {
    "application/vnd.databricks.v1+cell": {
     "cellMetadata": {
      "byteLimit": 2048000,
      "rowLimit": 10000
     },
     "inputWidgets": {},
     "nuid": "cc6c9175-322c-4c9e-aac3-0a5e39320d03",
     "showTitle": false,
     "tableResultSettingsMap": {},
     "title": ""
    }
   },
   "outputs": [],
   "source": [
    "dataframe = spark.read.csv(filespath+\"/circuito.csv\", header=True)\n",
    "dataframe = cast_columntypes(dataframe)"
   ]
  },
  {
   "cell_type": "code",
   "execution_count": 0,
   "metadata": {
    "application/vnd.databricks.v1+cell": {
     "cellMetadata": {
      "byteLimit": 2048000,
      "rowLimit": 10000
     },
     "inputWidgets": {},
     "nuid": "9b979152-3a10-44e4-bc43-b967e73597b5",
     "showTitle": false,
     "tableResultSettingsMap": {},
     "title": ""
    }
   },
   "outputs": [],
   "source": [
    "dataframe.write.format('delta').mode('overwrite').save(f'{savepath}/circuitoRaw.delta')\n"
   ]
  }
 ],
 "metadata": {
  "application/vnd.databricks.v1+notebook": {
   "computePreferences": null,
   "dashboards": [],
   "environmentMetadata": {
    "base_environment": "",
    "environment_version": "1"
   },
   "language": "python",
   "notebookMetadata": {
    "pythonIndentUnit": 4
   },
   "notebookName": "ingest_circuit-raw",
   "widgets": {}
  },
  "language_info": {
   "name": "python"
  }
 },
 "nbformat": 4,
 "nbformat_minor": 0
}
