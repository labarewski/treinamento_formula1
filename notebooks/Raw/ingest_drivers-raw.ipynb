{
 "cells": [
  {
   "cell_type": "code",
   "execution_count": 0,
   "metadata": {
    "application/vnd.databricks.v1+cell": {
     "cellMetadata": {
      "byteLimit": 2048000,
      "rowLimit": 10000
     },
     "inputWidgets": {},
     "nuid": "ddc113b7-dd2d-460e-97f6-ff0bf6f8cd23",
     "showTitle": false,
     "tableResultSettingsMap": {},
     "title": ""
    }
   },
   "outputs": [],
   "source": [
    "from pyspark.sql.types import StructType, StructField, StringType, IntegerType, DateType\n",
    "from pyspark.sql.functions import col"
   ]
  },
  {
   "cell_type": "code",
   "execution_count": 0,
   "metadata": {
    "application/vnd.databricks.v1+cell": {
     "cellMetadata": {
      "byteLimit": 2048000,
      "rowLimit": 10000
     },
     "inputWidgets": {},
     "nuid": "f43681c4-2e2a-4574-b349-c6982ab733d1",
     "showTitle": false,
     "tableResultSettingsMap": {},
     "title": ""
    }
   },
   "outputs": [],
   "source": [
    "user = str(dbutils.fs.ls(\"file:/Workspace/Users/\")).split('/')[3]\n",
    "filespath = f'file:/Workspace/Users/{user}/treinamento_formula1/landing'\n",
    "savepath = 'dbfs:/mnt/formula1/bronze/drivers'\n",
    "\n",
    "dfschema = StructType([\n",
    "        StructField(\"driverId\", IntegerType(), True),\n",
    "        StructField(\"driverRef\", StringType(), True),\n",
    "        StructField(\"number\", IntegerType(), True),\n",
    "        StructField(\"code\", StringType(), True),\n",
    "        StructField(\"name\", StructType(\n",
    "            [\n",
    "                StructField(\"forename\", StringType(), True),\n",
    "                StructField(\"surname\", StringType(), True)\n",
    "            ]\n",
    "        ), True),\n",
    "        StructField(\"dob\", DateType(), True),\n",
    "        StructField(\"nationality\", StringType(), True),\n",
    "        StructField(\"url\", StringType(), True),\n",
    "    ])"
   ]
  },
  {
   "cell_type": "code",
   "execution_count": 0,
   "metadata": {
    "application/vnd.databricks.v1+cell": {
     "cellMetadata": {
      "byteLimit": 2048000,
      "rowLimit": 10000
     },
     "inputWidgets": {},
     "nuid": "e32d4d70-690d-429d-935d-52ccbd6a3097",
     "showTitle": false,
     "tableResultSettingsMap": {},
     "title": ""
    }
   },
   "outputs": [],
   "source": [
    "dataframe = (spark.read.schema(dfschema)\n",
    "                    .format('json')\n",
    "                    .option('header', 'true')\n",
    "                    .load(f'{filespath}/drivers.json')\n",
    "                    .selectExpr(\"*\", \"name.forename as forename\", \"name.surname as surname\")\n",
    "                    .drop('name'))"
   ]
  },
  {
   "cell_type": "code",
   "execution_count": 0,
   "metadata": {
    "application/vnd.databricks.v1+cell": {
     "cellMetadata": {
      "byteLimit": 2048000,
      "rowLimit": 10000
     },
     "inputWidgets": {},
     "nuid": "aab5fb17-1716-47f2-a05e-56cb92c04464",
     "showTitle": false,
     "tableResultSettingsMap": {},
     "title": ""
    }
   },
   "outputs": [],
   "source": [
    "dbutils.fs.rm(f'{savepath}/driversRaw.delta', recurse=True)\n",
    "dataframe.write.mode('overwrite') \\\n",
    "               .format('delta') \\\n",
    "               .save(f'{savepath}/driversRaw.delta')"
   ]
  }
 ],
 "metadata": {
  "application/vnd.databricks.v1+notebook": {
   "computePreferences": null,
   "dashboards": [],
   "environmentMetadata": {
    "base_environment": "",
    "environment_version": "1"
   },
   "language": "python",
   "notebookMetadata": {
    "pythonIndentUnit": 4
   },
   "notebookName": "ingest_drivers-raw",
   "widgets": {}
  },
  "language_info": {
   "name": "python"
  }
 },
 "nbformat": 4,
 "nbformat_minor": 0
}
