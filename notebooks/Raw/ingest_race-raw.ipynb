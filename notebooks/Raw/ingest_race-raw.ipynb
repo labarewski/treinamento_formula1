{
 "cells": [
  {

   "cell_type": "markdown",
   "metadata": {
    "application/vnd.databricks.v1+cell": {
# Race_Mudança
     "cellMetadata": {
      "byteLimit": 2048000,
      "rowLimit": 10000
     },

   "cell_type": "code",
   "execution_count": 0,
   "metadata": {
    "application/vnd.databricks.v1+cell": {
     "cellMetadata": {
      "byteLimit": 2048000,
      "rowLimit": 10000
     },
     "inputWidgets": {},
     "nuid": "970f0c8a-fb27-4c1d-81b5-c628f664f921",
     "showTitle": false,
     "tableResultSettingsMap": {},
     "title": ""
    }
   },
   "outputs": [],
   "source": [
    "%python\n",
    "from pyspark.sql.types import IntegerType, StringType, TimestampType\n",
    "\n",

    "try:\n",
    "    df_race_raw = spark.read.format(\"csv\").option(\"header\", \"true\").load(\"file:/Workspace/Users/user-dodfwjrscnnc@oreilly-cloudlabs.com/treinamento_formula1/landing/races.csv\")\n",
    "except Exception as e:\n",
    "    print(e)\n",
    "    pass\n",
    "\n",
    "try:\n",
    "    df_race_raw = df_race_raw.withColumn(\"raceId\", df_race_raw[\"raceId\"].cast(IntegerType()))\n",
    "    df_race_raw = df_race_raw.withColumn(\"year\", df_race_raw[\"year\"].cast(IntegerType()))\n",
    "    df_race_raw = df_race_raw.withColumn(\"round\", df_race_raw[\"round\"].cast(IntegerType()))\n",
    "    df_race_raw = df_race_raw.withColumn(\"circuitId\", df_race_raw[\"circuitId\"].cast(IntegerType()))\n",
    "    df_race_raw = df_race_raw.withColumn(\"name\", df_race_raw[\"name\"].cast(StringType()))\n",
    "    df_race_raw = df_race_raw.withColumn(\"date\", df_race_raw[\"date\"].cast(TimestampType()))\n",
    "except Exception as e:\n",
    "    print(e)\n",
    "    pass"

   ]
  },
  {
   "cell_type": "code",
   "execution_count": 0,
   "metadata": {
    "application/vnd.databricks.v1+cell": {
     "cellMetadata": {
      "byteLimit": 2048000,
      "rowLimit": 10000
     },
     "inputWidgets": {},
     "nuid": "57c1cd1c-315c-42f9-ae23-7a0998f2b8e1",
     "showTitle": false,
     "tableResultSettingsMap": {},
     "title": ""
    }
   },
   "outputs": [],
   "source": [
    "try:\n",
    "    df_race_raw.write.format(\"delta\").mode(\"overwrite\").save(\"dbfs:/mnt/formula1/bronze/race_raw.delta\")\n",
    "except Exception as e:\n",
    "    print(e)\n",
    "    pass"
   ]
  }
 ],
 "metadata": {
  "application/vnd.databricks.v1+notebook": {
   "computePreferences": null,
   "dashboards": [],
   "environmentMetadata": {
    "base_environment": "",
    "environment_version": "1"
   },
   "language": "python",
   "notebookMetadata": {
    "pythonIndentUnit": 4
   },
   "notebookName": "ingest_race-raw",
   "widgets": {}
  },
  "language_info": {
   "name": "python"
  }
 },
 "nbformat": 4,
 "nbformat_minor": 0
}
