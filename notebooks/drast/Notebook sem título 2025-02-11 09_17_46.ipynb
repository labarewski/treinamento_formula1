{
 "cells": [
  {
   "cell_type": "code",
   "execution_count": 0,
   "metadata": {
    "application/vnd.databricks.v1+cell": {
     "cellMetadata": {
      "byteLimit": 2048000,
      "rowLimit": 10000
     },
     "inputWidgets": {},
     "nuid": "b7ae4ab6-f321-4bbe-b7a0-3885e8b65c17",
     "showTitle": false,
     "tableResultSettingsMap": {},
     "title": ""
    }
   },
   "outputs": [],
   "source": [
    " display(dbutils.fs.ls(\"file:/Workspace/Users/user-uxnxwfyqmwza@oreilly-cloudlabs.com/treinamento_formula1/landing/\"))\n",
    "\n",
    "# Leitura do arquivo CSV\n",
    "df = spark.read.csv(\"file:/Workspace/Users/user-pjaltgjixvrz@oreilly-cloudlabs.com/treinamento_formula1/landing/races.csv\", header=True, inferSchema=True)\n",
    "\n",
    "# Exibir o DataFrame para verificar o conteúdo\n",
    "df = spark.read.csv(\"file:/Workspace/Users/user-pjaltgjixvrz@oreilly-cloudlabs.com/treinamento_formula1/landing/races.csv\", header=True, inferSchema=True)"
   ]
  },
  {
   "cell_type": "code",
   "execution_count": 0,
   "metadata": {
    "application/vnd.databricks.v1+cell": {
     "cellMetadata": {
      "byteLimit": 2048000,
      "rowLimit": 10000
     },
     "inputWidgets": {},
     "nuid": "687d48da-a81d-43ca-ad61-81765556f65a",
     "showTitle": false,
     "tableResultSettingsMap": {},
     "title": ""
    }
   },
   "outputs": [],
   "source": [
    "%python\n",
    "# Leitura do arquivo CSV\n",
    "df = spark.read.csv(\n",
    "    \"/Workspace/Users/user-uxnxwfyqmwza@oreilly-cloudlabs.com/treinamento_formula1/landing/circuito.csv\",\n",
    "    header=True,\n",
    "    inferSchema=True\n",
    ")\n",
    "\n",
    "# Renomear as colunas\n",
    "df = df.withColumnRenamed(\"raceId\", \"Race_id\")\n",
    "df = df.withColumnRenamed(\"circuitId\", \"Circuit_id\")\n",
    "\n",
    "# Salvar o DataFrame de volta como CSV em um diretório\n",
    "output_directory = \"dbfs:/Workspace/Users/user-pjaltgjixvrz@oreilly-cloudlabs.com/treinamento_formula1/landing/races_output\"\n",
    "df.write.csv(\n",
    "    output_directory,\n",
    "    mode='overwrite',\n",
    "    header=True\n",
    ")\n",
    "\n",
    "# Exibir o DataFrame para verificar a alteração\n",
    "display(df)"
   ]
  }
 ],
 "metadata": {
  "application/vnd.databricks.v1+notebook": {
   "computePreferences": null,
   "dashboards": [],
   "environmentMetadata": {
    "base_environment": "",
    "environment_version": "2"
   },
   "language": "python",
   "notebookMetadata": {
    "pythonIndentUnit": 4
   },
   "notebookName": "Notebook sem título 2025-02-11 09_17_46",
   "widgets": {}
  },
  "language_info": {
   "name": "python"
  }
 },
 "nbformat": 4,
 "nbformat_minor": 0
}
