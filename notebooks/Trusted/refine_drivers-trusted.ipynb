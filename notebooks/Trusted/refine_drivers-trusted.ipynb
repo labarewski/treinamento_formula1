{
 "cells": [
  {
   "cell_type": "code",
   "execution_count": 0,
   "metadata": {
    "application/vnd.databricks.v1+cell": {
     "cellMetadata": {
      "byteLimit": 2048000,
      "rowLimit": 10000
     },
     "inputWidgets": {},
     "nuid": "bc792150-af94-4168-af4a-c3ddea6c1ba3",
     "showTitle": false,
     "tableResultSettingsMap": {},
     "title": ""
    }
   },
   "outputs": [],
   "source": [
    "from pyspark.sql.functions import current_timestamp, concat\n",
    "from pyspark.sql.types import TimestampType, StringType"
   ]
  },
  {
   "cell_type": "code",
   "execution_count": 0,
   "metadata": {
    "application/vnd.databricks.v1+cell": {
     "cellMetadata": {
      "byteLimit": 2048000,
      "rowLimit": 10000
     },
     "inputWidgets": {},
     "nuid": "4f551e40-2466-4802-8ac5-6a2600688578",
     "showTitle": false,
     "tableResultSettingsMap": {},
     "title": ""
    }
   },
   "outputs": [],
   "source": [
    "%run ../Utils/DBInstanceUtils"
   ]
  },
  {
   "cell_type": "code",
   "execution_count": 0,
   "metadata": {
    "application/vnd.databricks.v1+cell": {
     "cellMetadata": {
      "byteLimit": 2048000,
      "rowLimit": 10000
     },
     "inputWidgets": {},
     "nuid": "8bd4d7fd-86ee-4cfa-a4f6-215dae0f6243",
     "showTitle": false,
     "tableResultSettingsMap": {},
     "title": ""
    }
   },
   "outputs": [],
   "source": [
    "%run ../Utils/ProcessingUtils"
   ]
  },
  {
   "cell_type": "code",
   "execution_count": 0,
   "metadata": {
    "application/vnd.databricks.v1+cell": {
     "cellMetadata": {
      "byteLimit": 2048000,
      "rowLimit": 10000
     },
     "inputWidgets": {},
     "nuid": "2eed810c-716d-43e8-9c0c-5e2829c528ce",
     "showTitle": false,
     "tableResultSettingsMap": {},
     "title": ""
    }
   },
   "outputs": [],
   "source": [
    "instance = DBInstanceUtils('treinamento_formula1')\n",
    "filename    = 'driversRaw'\n",
    "extension   = 'delta'\n",
    "file        = filename + '.' + extension\n",
    "\n",
    "DBInstanceUtils.set_dbfs_filepath(instance, 'mnt',f'formula1/bronze/drivers', file)\n",
    "\n",
    "dfColSchema = [\n",
    "    \"driver_id\",\n",
    "    \"driver_reference\",\n",
    "    \"number\",\n",
    "    \"code\",\n",
    "    \"dob\",\n",
    "    \"nationality\",\n",
    "    \"name\"\n",
    "]"
   ]
  },
  {
   "cell_type": "code",
   "execution_count": 0,
   "metadata": {
    "application/vnd.databricks.v1+cell": {
     "cellMetadata": {
      "byteLimit": 2048000,
      "rowLimit": 10000
     },
     "inputWidgets": {},
     "nuid": "62904faf-9ea5-42d9-9861-c8b76fdc1425",
     "showTitle": false,
     "tableResultSettingsMap": {},
     "title": ""
    }
   },
   "outputs": [],
   "source": [
    "dataframe = (spark.read\n",
    "             .format('delta')\n",
    "             .load(instance.get_dbfs_filepath())\n",
    "             .drop('url'))\n",
    "\n",
    "dataframe = (Refine(dataframe)\n",
    "             .merge_cols('forename', 'surname', 'name')\n",
    "             .renamecols(dfColSchema)\n",
    "             .add_constcol('ingestionDate', TimestampType(),current_timestamp())\n",
    "             .load())"
   ]
  },
  {
   "cell_type": "code",
   "execution_count": 0,
   "metadata": {
    "application/vnd.databricks.v1+cell": {
     "cellMetadata": {
      "byteLimit": 2048000,
      "rowLimit": 10000
     },
     "inputWidgets": {},
     "nuid": "21e749af-1531-44ac-8d58-930480cebf30",
     "showTitle": true,
     "tableResultSettingsMap": {},
     "title": "Re-atribuindo parametros"
    }
   },
   "outputs": [],
   "source": [
    "filename = 'driversTrusted'\n",
    "extension = 'delta'\n",
    "file = filename + '.' + extension\n",
    "DBInstanceUtils.set_dbfs_savepath(instance,'mnt','formula1/prata/drivers',file)"
   ]
  },
  {
   "cell_type": "code",
   "execution_count": 0,
   "metadata": {
    "application/vnd.databricks.v1+cell": {
     "cellMetadata": {
      "byteLimit": 2048000,
      "rowLimit": 10000
     },
     "inputWidgets": {},
     "nuid": "ba85e52c-5201-4f5e-b049-4262fbdc66a0",
     "showTitle": true,
     "tableResultSettingsMap": {},
     "title": "Escrevendo o arquivo"
    }
   },
   "outputs": [],
   "source": [
    "dataframe.write.mode('overwrite').save(instance.get_dbfs_savepath())"
   ]
  }
 ],
 "metadata": {
  "application/vnd.databricks.v1+notebook": {
   "computePreferences": null,
   "dashboards": [],
   "environmentMetadata": {
    "base_environment": "",
    "environment_version": "2"
   },
   "language": "python",
   "notebookMetadata": {
    "pythonIndentUnit": 4
   },
   "notebookName": "refine_drivers-trusted",
   "widgets": {}
  },
  "language_info": {
   "name": "python"
  }
 },
 "nbformat": 4,
 "nbformat_minor": 0
}
