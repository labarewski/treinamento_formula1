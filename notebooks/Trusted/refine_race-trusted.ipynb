{
 "cells": [
  {
   "cell_type": "markdown",
   "metadata": {
    "application/vnd.databricks.v1+cell": {
     "cellMetadata": {},
     "inputWidgets": {},
     "nuid": "c80c6602-8307-485d-b652-190b2782d393",
     "showTitle": false,
     "tableResultSettingsMap": {},
     "title": ""
    }
   },
   "source": [
    "# para achar o race.csv e para ver as colunas e tipo delas"
   ]
  },
  {
   "cell_type": "code",
   "execution_count": 0,
   "metadata": {
    "application/vnd.databricks.v1+cell": {
     "cellMetadata": {
      "byteLimit": 2048000,
      "rowLimit": 10000
     },
     "inputWidgets": {},
     "nuid": "b7ae4ab6-f321-4bbe-b7a0-3885e8b65c17",
     "showTitle": false,
     "tableResultSettingsMap": {},
     "title": ""
    }
   },
   "outputs": [],
   "source": [
    " display(dbutils.fs.ls(\"file:/Workspace/Users/user-uxnxwfyqmwza@oreilly-cloudlabs.com/treinamento_formula1/landing/races.csv\"))\n",
    "\n",
    "# Leitura do arquivo CSV\n",
    "df = spark.read.csv(\"file:/Workspace/Users/user-pjaltgjixvrz@oreilly-cloudlabs.com/treinamento_formula1/landing/races.csv\", header=True, inferSchema=True)\n",
    "\n",
    "# Exibir o DataFrame para verificar o conteúdo\n",
    "df = spark.read.csv(\"file:/Workspace/Users/user-pjaltgjixvrz@oreilly-cloudlabs.com/treinamento_formula1/landing/races.csv\", header=True, inferSchema=True)"
   ]
  },
  {
   "cell_type": "markdown",
   "metadata": {
    "application/vnd.databricks.v1+cell": {
     "cellMetadata": {},
     "inputWidgets": {},
     "nuid": "90326dd8-a8ae-4497-8d7d-3ac441244af3",
     "showTitle": false,
     "tableResultSettingsMap": {},
     "title": ""
    }
   },
   "source": [
    "##para renomeiar as duas colunas"
   ]
  },
  {
   "cell_type": "code",
   "execution_count": 0,
   "metadata": {
    "application/vnd.databricks.v1+cell": {
     "cellMetadata": {
      "byteLimit": 2048000,
      "rowLimit": 10000
     },
     "inputWidgets": {},
     "nuid": "687d48da-a81d-43ca-ad61-81765556f65a",
     "showTitle": false,
     "tableResultSettingsMap": {},
     "title": ""
    }
   },
   "outputs": [],
   "source": [
    "%python\n",
    "# Leitura do arquivo CSV\n",
    "df = spark.read.csv(\n",
    "    \"/Workspace/Users/user-uxnxwfyqmwza@oreilly-cloudlabs.com/treinamento_formula1/landing/circuito.csv\",\n",
    "    header=True,\n",
    "    inferSchema=True\n",
    ")\n",
    "\n",
    "# Renomear as colunas\n",
    "df = df.withColumnRenamed(\"raceId\", \"Race_id\")\n",
    "df = df.withColumnRenamed(\"circuitId\", \"Circuit_id\")\n",
    "\n",
    "# Salvar o DataFrame de volta como CSV em um diretório\n",
    "output_directory = \"dbfs:/Workspace/Users/user-pjaltgjixvrz@oreilly-cloudlabs.com/treinamento_formula1/landing/races_output\"\n",
    "df.write.csv(\n",
    "    output_directory,\n",
    "    mode='overwrite',\n",
    "    header=True\n",
    ")\n",
    "\n",
    "# Exibir o DataFrame para verificar a alteração\n",
    "display(df)"
   ]
  },
  {
   "cell_type": "markdown",
   "metadata": {
    "application/vnd.databricks.v1+cell": {
     "cellMetadata": {},
     "inputWidgets": {},
     "nuid": "e0877b2b-f99f-4f1d-b4bd-724342ba7cf3",
     "showTitle": false,
     "tableResultSettingsMap": {},
     "title": ""
    }
   },
   "source": [
    "## para deletar url"
   ]
  },
  {
   "cell_type": "code",
   "execution_count": 0,
   "metadata": {
    "application/vnd.databricks.v1+cell": {
     "cellMetadata": {},
     "inputWidgets": {},
     "nuid": "f12abfdf-224e-4b61-a174-fb47edf354cb",
     "showTitle": false,
     "tableResultSettingsMap": {},
     "title": ""
    }
   },
   "outputs": [],
   "source": [
    "codico para deleatar o url\n",
    "%python\n",
    "# Excluir a coluna 'url'\n",
    "df = df.drop(\"url\")\n",
    "\n",
    "# Exibir o DataFrame para verificar a alteração\n",
    "display(df)\n"
   ]
  },
  {
   "cell_type": "markdown",
   "metadata": {
    "application/vnd.databricks.v1+cell": {
     "cellMetadata": {},
     "inputWidgets": {},
     "nuid": "d65d90cf-6157-4f82-af37-933effa24361",
     "showTitle": false,
     "tableResultSettingsMap": {},
     "title": ""
    }
   },
   "source": [
    "## para criar uma nova coluna para receber o tempo alterado"
   ]
  },
  {
   "cell_type": "code",
   "execution_count": 0,
   "metadata": {
    "application/vnd.databricks.v1+cell": {
     "cellMetadata": {},
     "inputWidgets": {},
     "nuid": "04a83d18-f65c-41fe-9526-02f90c5f1481",
     "showTitle": false,
     "tableResultSettingsMap": {},
     "title": ""
    }
   },
   "outputs": [],
   "source": [
    "%python\n",
    "from pyspark.sql.functions import lit, concat, to_timestamp, date_format\n",
    "\n",
    "# Supondo que as colunas 'time' e 'date' existam no DataFrame\n",
    "# Concatenar as colunas 'date' e 'time' e convertê-las para o formato 'yyyy-MM-dd HH:mm:ss'\n",
    "df = df.withColumn(\"coluna do tempo\", date_format(to_timestamp(concat(df[\"date\"], lit(\" \"), df[\"time\"])), \"yyyy-MM-dd HH:mm:ss\"))\n",
    "\n",
    "# Exibir o DataFrame para verificar a alteração\n",
    "display(df)"
   ]
  }
 ],
 "metadata": {
  "application/vnd.databricks.v1+notebook": {
   "computePreferences": null,
   "dashboards": [],
   "environmentMetadata": {
    "base_environment": "",
    "environment_version": "2"
   },
   "language": "python",
   "notebookMetadata": {
    "pythonIndentUnit": 4
   },
   "notebookName": "refine_race-trusted",
   "widgets": {}
  },
  "language_info": {
   "name": "python"
  }
 },
 "nbformat": 4,
 "nbformat_minor": 0
}
