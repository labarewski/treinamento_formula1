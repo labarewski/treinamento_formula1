{
 "cells": [
  {
   "cell_type": "code",
   "execution_count": 0,
   "metadata": {
    "application/vnd.databricks.v1+cell": {
     "cellMetadata": {
      "byteLimit": 2048000,
      "rowLimit": 10000
     },
     "inputWidgets": {},
     "nuid": "d664148f-c801-4e9b-9c08-ffa4ad5eed94",
     "showTitle": false,
     "tableResultSettingsMap": {},
     "title": ""
    }
   },
   "outputs": [],
   "source": [
    "%python\n",
    "# Lendo a tabela Delta\n",
    "df_leitura = spark.read.format(\"delta\").load(\"/mnt/formula1/bronze/results/resultsRaw.delta\")"
   ]
  },
  {
   "cell_type": "code",
   "execution_count": 0,
   "metadata": {
    "application/vnd.databricks.v1+cell": {
     "cellMetadata": {
      "byteLimit": 2048000,
      "rowLimit": 10000
     },
     "inputWidgets": {},
     "nuid": "f4381ab0-6f7f-4f7f-bb16-dfcb8525d8c4",
     "showTitle": false,
     "tableResultSettingsMap": {},
     "title": ""
    }
   },
   "outputs": [],
   "source": [
    "%python\n",
    "dfcolunnanames = df_leitura.withColumnRenamed(\"resultId\", \"Result_id\") \\\n",
    "                     .withColumnRenamed(\"raceid\", \"Race_id\")  \\\n",
    "                     .withColumnRenamed(\"driverid\", \"Driver_id\")  \\\n",
    "                     .withColumnRenamed(\"constructorId\", \"Constructor_id\") \\\n",
    "                     .withColumnRenamed(\"positionText\", \"Position_text\")  \\\n",
    "                     .withColumnRenamed(\"positionOrder\", \"Position_order\")  \\\n",
    "                     .withColumnRenamed(\"fastestLap\", \"Fastest_Lap\")  \\\n",
    "                     .withColumnRenamed(\"fastestLapTime\", \"Fastest_Lap_Time\")  \\\n",
    "                     .withColumnRenamed(\"fastestLapSpeed\", \"Fastest_Lap_Speed\")  \\\n",
    "                     .withColumnRenamed(\"statusId\", \"Status_id\")"
   ]
  },
  {
   "cell_type": "code",
   "execution_count": 0,
   "metadata": {
    "application/vnd.databricks.v1+cell": {
     "cellMetadata": {
      "byteLimit": 2048000,
      "rowLimit": 10000
     },
     "inputWidgets": {},
     "nuid": "b2622102-5195-4e4c-8573-01db8bab1688",
     "showTitle": false,
     "tableResultSettingsMap": {},
     "title": ""
    }
   },
   "outputs": [],
   "source": [
    "dfDrop = dfcolunnanames.drop(\"Status_id\")"
   ]
  },
  {
   "cell_type": "code",
   "execution_count": 0,
   "metadata": {
    "application/vnd.databricks.v1+cell": {
     "cellMetadata": {
      "byteLimit": 2048000,
      "rowLimit": 10000
     },
     "inputWidgets": {},
     "nuid": "f78d694c-68df-4bed-ae96-1f043c1dd314",
     "showTitle": false,
     "tableResultSettingsMap": {},
     "title": ""
    }
   },
   "outputs": [],
   "source": [
    "%python\n",
    "dfDrop.write.format('delta') \\\n",
    "    .mode('overwrite') \\\n",
    "    .option(\"overwriteSchema\", \"true\") \\\n",
    "    .partitionBy('Race_id') \\\n",
    "    .save('dbfs:/mnt/formula1/prata/result_Raw.delta')"
   ]
  }
 ],
 "metadata": {
  "application/vnd.databricks.v1+notebook": {
   "computePreferences": null,
   "dashboards": [],
   "environmentMetadata": {
    "base_environment": "",
    "environment_version": "2"
   },
   "language": "python",
   "notebookMetadata": {
    "pythonIndentUnit": 4
   },
   "notebookName": "refine_result_trusted",
   "widgets": {}
  },
  "language_info": {
   "name": "python"
  }
 },
 "nbformat": 4,
 "nbformat_minor": 0
}
