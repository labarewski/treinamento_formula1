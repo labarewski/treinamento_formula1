{
 "cells": [
  {
   "cell_type": "code",
   "execution_count": 0,
   "metadata": {
    "application/vnd.databricks.v1+cell": {
     "cellMetadata": {
      "byteLimit": 2048000,
      "rowLimit": 10000
     },
     "inputWidgets": {},
     "nuid": "d664148f-c801-4e9b-9c08-ffa4ad5eed94",
     "showTitle": false,
     "tableResultSettingsMap": {},
     "title": ""
    }
   },
   "outputs": [],
   "source": [
    "%python\n",
    "# Lendo a tabela Delta\n",
    "df_leitura = spark.read.format(\"delta\").load(\"/mnt/formula1/bronze/results/resultsRaw.delta\")"
   ]
  },
  {
   "cell_type": "code",
   "execution_count": 0,
   "metadata": {
    "application/vnd.databricks.v1+cell": {
     "cellMetadata": {
      "byteLimit": 2048000,
      "rowLimit": 10000
     },
     "inputWidgets": {},
     "nuid": "0faccc0f-d17d-462c-909b-fad0aed173eb",
     "showTitle": false,
     "tableResultSettingsMap": {},
     "title": ""
    }
   },
   "outputs": [],
   "source": [
    "dicionario = {\n",
    "    'resultId': 'result_id',\n",
    "    'raceId': 'race_id',\n",
    "    'driverId': 'driver_id',\n",
    "    'constructorId': 'constructor_id',\n",
    "    'positionText': 'position_text',\n",
    "    'positionOrder': 'position_order',\n",
    "    'fastestLap': 'fastest_lap',\n",
    "    'fastesLapTime': 'fastes_lap_time',\n",
    "    'fastestLapSpeed': 'fastest_lap_speed',\n",
    "    'statusId': 'status_id'\n",
    "}\n",
    "\n",
    "df_leitura = funcao_alterador(df_leitura, dicionario)\n",
    "\n",
    "def funcao_alterador(df_leitura, dicionario):\n",
    "    DF_alterador = df_leitura\n",
    "    for nome_antigo, nome_novo in dicionario.items():\n",
    "        DF_alterador = DF_alterador.withColumnRenamed(nome_antigo, nome_novo)\n",
    "    return DF_alterador"
   ]
  },
  {
   "cell_type": "code",
   "execution_count": 0,
   "metadata": {
    "application/vnd.databricks.v1+cell": {
     "cellMetadata": {
      "byteLimit": 2048000,
      "rowLimit": 10000
     },
     "inputWidgets": {},
     "nuid": "f4381ab0-6f7f-4f7f-bb16-dfcb8525d8c4",
     "showTitle": false,
     "tableResultSettingsMap": {},
     "title": ""
    }
   },
   "outputs": [],
   "source": [
    "%python \n",
    "#Import re\n",
    "\n",
    "# Função para converter camelCase para snake_case\n",
    "#def column_name_to_snake_case(name):\n",
    "#    s1 = re.sub('(.)([A-Z][a-z]+)', r'\\1_\\2', name)\n",
    " #   return re.sub('([a-z0-9])([A-Z])', r'\\1_\\2', s1).lower()\n",
    "\n",
    "# Lendo a tabela Delta\n",
    "#df_leitura = spark.read.format(\"delta\").load(\"/mnt/formula1/bronze/results/resultsRaw.delta\")\n",
    "\n",
    "# Renomeando as colunas para snake_case\n",
    "#for col in df_leitura.columns:\n",
    " #   df_leitura = df_leitura.withColumnRenamed(col, column_name_to_snake_case(col))\n"
   ]
  },
  {
   "cell_type": "code",
   "execution_count": 0,
   "metadata": {
    "application/vnd.databricks.v1+cell": {
     "cellMetadata": {
      "byteLimit": 2048000,
      "rowLimit": 10000
     },
     "inputWidgets": {},
     "nuid": "b2622102-5195-4e4c-8573-01db8bab1688",
     "showTitle": false,
     "tableResultSettingsMap": {},
     "title": ""
    }
   },
   "outputs": [],
   "source": [
    "# Excluindo a coluna 'status_id'\n",
    "dfDrop = df_leitura.drop(\"status_id\")\n",
    "display(dfDrop)\n"
   ]
  },
  {
   "cell_type": "code",
   "execution_count": 0,
   "metadata": {
    "application/vnd.databricks.v1+cell": {
     "cellMetadata": {
      "byteLimit": 2048000,
      "rowLimit": 10000
     },
     "inputWidgets": {},
     "nuid": "f78d694c-68df-4bed-ae96-1f043c1dd314",
     "showTitle": false,
     "tableResultSettingsMap": {},
     "title": ""
    }
   },
   "outputs": [],
   "source": [
    "dfDrop.write.format('delta') \\\n",
    "    .mode('overwrite') \\\n",
    "    .option(\"overwriteSchema\", \"true\") \\\n",
    "    .partitionBy('race_id') \\\n",
    "    .save('dbfs:/mnt/formula1/prata/result.delta')"
   ]
  },
  {
   "cell_type": "markdown",
   "metadata": {
    "application/vnd.databricks.v1+cell": {
     "cellMetadata": {},
     "inputWidgets": {},
     "nuid": "dec0b798-8386-43c2-b223-c2cbfd3c7a95",
     "showTitle": false,
     "tableResultSettingsMap": {},
     "title": ""
    }
   },
   "source": [
    "#teste"
   ]
  },
  {
   "cell_type": "code",
   "execution_count": 0,
   "metadata": {
    "application/vnd.databricks.v1+cell": {
     "cellMetadata": {},
     "inputWidgets": {},
     "nuid": "216e1b94-8e06-4c1a-bf4c-ca9f12db0bf5",
     "showTitle": false,
     "tableResultSettingsMap": {},
     "title": ""
    }
   },
   "outputs": [],
   "source": [
    "dicionario = {\"Gol\":\"Vermelho\", \"Gol\":\"Verde\", \"Uno\":\"Vermelho\", \"Uno\":\"Verde\", \"corsa\":\"Preto\"}\n",
    "\n",
    "for nome , cor"
   ]
  }
 ],
 "metadata": {
  "application/vnd.databricks.v1+notebook": {
   "computePreferences": null,
   "dashboards": [],
   "environmentMetadata": {
    "base_environment": "",
    "environment_version": "2"
   },
   "language": "python",
   "notebookMetadata": {
    "pythonIndentUnit": 4
   },
   "notebookName": "refine_result_trusted",
   "widgets": {}
  },
  "language_info": {
   "name": "python"
  }
 },
 "nbformat": 4,
 "nbformat_minor": 0
}
