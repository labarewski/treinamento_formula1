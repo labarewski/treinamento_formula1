{
 "cells": [
  {
   "cell_type": "code",
   "execution_count": 0,
   "metadata": {
    "application/vnd.databricks.v1+cell": {
     "cellMetadata": {
      "byteLimit": 2048000,
      "rowLimit": 10000
     },
     "inputWidgets": {},
     "nuid": "3cfef2fd-0990-47e5-9ae7-9d4863bc3f90",
     "showTitle": false,
     "tableResultSettingsMap": {},
     "title": ""
    }
   },
   "outputs": [],
   "source": [
    "%run ../Utils/DBInstanceUtils"
   ]
  },
  {
   "cell_type": "code",
   "execution_count": 0,
   "metadata": {
    "application/vnd.databricks.v1+cell": {
     "cellMetadata": {
      "byteLimit": 2048000,
      "rowLimit": 10000
     },
     "inputWidgets": {},
     "nuid": "25b53157-cd89-416e-aece-2339f4f9e71f",
     "showTitle": false,
     "tableResultSettingsMap": {},
     "title": ""
    }
   },
   "outputs": [],
   "source": [
    "dbi = DBInstanceUtils('treinamento_formula1')\n",
    "dbi.set_dbfs_filepath(dbi,'mnt', 'formula1/prata')\n",
    "\n",
    "df_dict = {}\n",
    "\n",
    "for folder in dbutils.fs.ls(dbi.get_dbfs_filepath()):\n",
    "    for file in dbutils.fs.ls(folder.path):\n",
    "        path = f'{folder.path}{file.name.removesuffix(\"/\")}'\n",
    "        df = (spark.read.format('delta').load(path))\n",
    "        df_dict[file.name.removesuffix(\"Trusted.delta/\")] = df\n",
    "\n",
    "drivers = df_dict['drivers']\n",
    "results = df_dict['results']\n",
    "\n",
    "first_positioned = (\n",
    "        drivers.join(results.filter(results.position.isNotNull() & (results.points > 1)),\n",
    "                     drivers.driver_id == results.driver_id, 'inner')\n",
    "        ).select(drivers.driver_id, 'name', 'nationality', 'position', 'points').display()"
   ]
  }
 ],
 "metadata": {
  "application/vnd.databricks.v1+notebook": {
   "computePreferences": null,
   "dashboards": [],
   "environmentMetadata": {
    "base_environment": "",
    "environment_version": "2"
   },
   "language": "python",
   "notebookMetadata": {
    "pythonIndentUnit": 4
   },
   "notebookName": "top-drivers",
   "widgets": {}
  },
  "language_info": {
   "name": "python"
  }
 },
 "nbformat": 4,
 "nbformat_minor": 0
}
