{
 "cells": [
  {
   "cell_type": "code",
   "execution_count": 0,
   "metadata": {
    "application/vnd.databricks.v1+cell": {
     "cellMetadata": {
      "byteLimit": 2048000,
      "rowLimit": 10000
     },
     "inputWidgets": {},
     "nuid": "57c1cd1c-315c-42f9-ae23-7a0998f2b8e1",
     "showTitle": false,
     "tableResultSettingsMap": {},
     "title": ""
    }
   },
   "outputs": [],
   "source": [
    "df_race_raw.write.format(\"delta\").mode(\"append\").save(\"dbfs:/Workspace/Users/user-dodfwjrscnnc@oreilly-cloudlabs.com/treinamento_formula1/landing/races_delta\")"
   ]
  },
  {
   "cell_type": "code",
   "execution_count": 0,
   "metadata": {
    "application/vnd.databricks.v1+cell": {
     "cellMetadata": {
      "byteLimit": 2048000,
      "rowLimit": 10000
     },
     "inputWidgets": {},
     "nuid": "4307895e-a9b4-456b-b87c-2d64092dc7b4",
     "showTitle": false,
     "tableResultSettingsMap": {},
     "title": ""
    }
   },
   "outputs": [],
   "source": [
    "display(dbutils.fs.ls(\"file:/Workspace/Users/user-dodfwjrscnnc@oreilly-cloudlabs.com/treinamento_formula1/landing/races.csv\"))\n"
   ]
  },
  {
   "cell_type": "code",
   "execution_count": 0,
   "metadata": {
    "application/vnd.databricks.v1+cell": {
     "cellMetadata": {
      "byteLimit": 2048000,
      "rowLimit": 10000
     },
     "inputWidgets": {},
     "nuid": "970f0c8a-fb27-4c1d-81b5-c628f664f921",
     "showTitle": false,
     "tableResultSettingsMap": {},
     "title": ""
    }
   },
   "outputs": [],
   "source": [
    "%python\n",
    "from pyspark.sql.types import IntegerType, StringType, TimestampType\n",
    "\n",
    "# Carregar os dados\n",
    "df_race_raw = spark.read.format(\"csv\").option(\"header\", \"true\").load(\"file:/Workspace/Users/user-dodfwjrscnnc@oreilly-cloudlabs.com/treinamento_formula1/landing/races.csv\")\n",
    "display(df_race_raw)\n",
    "\n",
    "# Converter os tipos de dados das colunas\n",
    "df_race_raw = df_race_raw.withColumn(\"raceId\", df_race_raw[\"raceId\"].cast(IntegerType()))\n",
    "df_race_raw = df_race_raw.withColumn(\"year\", df_race_raw[\"year\"].cast(IntegerType()))\n",
    "df_race_raw = df_race_raw.withColumn(\"round\", df_race_raw[\"round\"].cast(IntegerType()))\n",
    "df_race_raw = df_race_raw.withColumn(\"circuitId\", df_race_raw[\"circuitId\"].cast(IntegerType()))\n",
    "df_race_raw = df_race_raw.withColumn(\"name\", df_race_raw[\"name\"].cast(StringType()))\n",
    "df_race_raw = df_race_raw.withColumn(\"date\", df_race_raw[\"date\"].cast(TimestampType()))\n",
    "\n",
    "display(df_race_raw)\n",
    "\n",
    "# Salvar o DataFrame como um arquivo Delta\n",
    "df_race_raw.write.format(\"delta\").save(\"dbfs:/Workspace/Users/user-dodfwjrscnnc@oreilly-cloudlabs.com/treinamento_formula1/landing/races_delta\")"
   ]
  },
  {
   "cell_type": "code",
   "execution_count": 0,
   "metadata": {
    "application/vnd.databricks.v1+cell": {
     "cellMetadata": {
      "byteLimit": 2048000,
      "rowLimit": 10000
     },
     "inputWidgets": {},
     "nuid": "5b20f459-9c28-48ae-93b6-4483149f02c4",
     "showTitle": false,
     "tableResultSettingsMap": {},
     "title": ""
    }
   },
   "outputs": [],
   "source": [
    "%python\n",
    "from pyspark.sql.types import IntegerType, StringType, TimestampType\n",
    "\n",
    "# Carregar os dados\n",
    "df_race_raw = spark.read.format(\"csv\").option(\"header\", \"true\").load(\"file/Workspace/Users/user-dodfwjrscnnc@oreilly-cloudlabs.com/treinamento_formula1/landing/races.csv\")\n",
    "display(df_race_raw)\n",
    "\n",
    "# Converter os tipos de dados das colunas\n",
    "df_race_raw = df_race_raw.withColumn(\"raceId\", df_race_raw[\"raceId\"].cast(IntegerType()))\n",
    "df_race_raw = df_race_raw.withColumn(\"year\", df_race_raw[\"year\"].cast(IntegerType()))\n",
    "df_race_raw = df_race_raw.withColumn(\"round\", df_race_raw[\"round\"].cast(IntegerType()))\n",
    "df_race_raw = df_race_raw.withColumn(\"circuitId\", df_race_raw[\"circuitId\"].cast(IntegerType()))\n",
    "df_race_raw = df_race_raw.withColumn(\"name\", df_race_raw[\"name\"].cast(StringType()))\n",
    "df_race_raw = df_race_raw.withColumn(\"date\", df_race_raw[\"date\"].cast(TimestampType()))\n",
    "\n",
    "display(df_race_raw)\n",
    "\n"
   ]
  }
 ],
 "metadata": {
  "application/vnd.databricks.v1+notebook": {
   "computePreferences": null,
   "dashboards": [],
   "environmentMetadata": {
    "base_environment": "",
    "client": "1"
   },
   "language": "python",
   "notebookMetadata": {
    "pythonIndentUnit": 4
   },
   "notebookName": "Notebook sem título 2025-01-28 10_38_06",
   "widgets": {}
  },
  "language_info": {
   "name": "python"
  }
 },
 "nbformat": 4,
 "nbformat_minor": 0
}
